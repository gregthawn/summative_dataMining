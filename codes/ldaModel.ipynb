{
 "cells": [
  {
   "cell_type": "code",
   "execution_count": 10,
   "metadata": {},
   "outputs": [],
   "source": [
    "import pandas as pd\n",
    "import gensim\n",
    "import spacy\n",
    "from gensim import corpora\n",
    "from gensim.models import LdaModel, CoherenceModel\n",
    "import string"
   ]
  },
  {
   "cell_type": "code",
   "execution_count": 11,
   "metadata": {},
   "outputs": [],
   "source": [
    "nlp = spacy.load('en_core_web_sm')"
   ]
  },
  {
   "cell_type": "code",
   "execution_count": 13,
   "metadata": {},
   "outputs": [
    {
     "name": "stdout",
     "output_type": "stream",
     "text": [
      "Index(['URL', 'Paragraph'], dtype='object')\n"
     ]
    },
    {
     "data": {
      "text/html": [
       "<div>\n",
       "<style scoped>\n",
       "    .dataframe tbody tr th:only-of-type {\n",
       "        vertical-align: middle;\n",
       "    }\n",
       "\n",
       "    .dataframe tbody tr th {\n",
       "        vertical-align: top;\n",
       "    }\n",
       "\n",
       "    .dataframe thead th {\n",
       "        text-align: right;\n",
       "    }\n",
       "</style>\n",
       "<table border=\"1\" class=\"dataframe\">\n",
       "  <thead>\n",
       "    <tr style=\"text-align: right;\">\n",
       "      <th></th>\n",
       "      <th>URL</th>\n",
       "      <th>Paragraph</th>\n",
       "    </tr>\n",
       "  </thead>\n",
       "  <tbody>\n",
       "    <tr>\n",
       "      <th>0</th>\n",
       "      <td>https://new.baguio.gov.ph/news/mayor-talks-on-...</td>\n",
       "      <td>“Our decision to transform Baguio City into a ...</td>\n",
       "    </tr>\n",
       "    <tr>\n",
       "      <th>1</th>\n",
       "      <td>https://new.baguio.gov.ph/news/mayor-talks-on-...</td>\n",
       "      <td>This was emphasized by Mayor Benjamin Magalong...</td>\n",
       "    </tr>\n",
       "    <tr>\n",
       "      <th>2</th>\n",
       "      <td>https://new.baguio.gov.ph/news/mayor-talks-on-...</td>\n",
       "      <td>“More importantly, we aim to leverage technolo...</td>\n",
       "    </tr>\n",
       "    <tr>\n",
       "      <th>3</th>\n",
       "      <td>https://www.bworldonline.com/sparkup/2024/03/2...</td>\n",
       "      <td>Philippine-based education platform Bitskwela ...</td>\n",
       "    </tr>\n",
       "    <tr>\n",
       "      <th>4</th>\n",
       "      <td>https://www.bworldonline.com/sparkup/2024/03/2...</td>\n",
       "      <td>Held at the University of the Cordilleras, Bit...</td>\n",
       "    </tr>\n",
       "  </tbody>\n",
       "</table>\n",
       "</div>"
      ],
      "text/plain": [
       "                                                 URL  \\\n",
       "0  https://new.baguio.gov.ph/news/mayor-talks-on-...   \n",
       "1  https://new.baguio.gov.ph/news/mayor-talks-on-...   \n",
       "2  https://new.baguio.gov.ph/news/mayor-talks-on-...   \n",
       "3  https://www.bworldonline.com/sparkup/2024/03/2...   \n",
       "4  https://www.bworldonline.com/sparkup/2024/03/2...   \n",
       "\n",
       "                                           Paragraph  \n",
       "0  “Our decision to transform Baguio City into a ...  \n",
       "1  This was emphasized by Mayor Benjamin Magalong...  \n",
       "2  “More importantly, we aim to leverage technolo...  \n",
       "3  Philippine-based education platform Bitskwela ...  \n",
       "4  Held at the University of the Cordilleras, Bit...  "
      ]
     },
     "execution_count": 13,
     "metadata": {},
     "output_type": "execute_result"
    }
   ],
   "source": [
    "df = pd.read_csv('filtered_Data.csv')\n",
    "print(df.columns)\n",
    "df.head()"
   ]
  },
  {
   "cell_type": "code",
   "execution_count": 16,
   "metadata": {},
   "outputs": [],
   "source": [
    "def preprocess(text):\n",
    "    doc = nlp(text)\n",
    "    tokens = [token.lemma_.lower() for token in doc if not token.is_stop and not token.is_punct]\n",
    "    return tokens\n",
    "\n"
   ]
  },
  {
   "cell_type": "code",
   "execution_count": 17,
   "metadata": {},
   "outputs": [
    {
     "name": "stdout",
     "output_type": "stream",
     "text": [
      "Number of documents: 351\n",
      "[['decision', 'transform', 'baguio', 'city', 'smart', 'city', 'align', 'strategic', 'direction', 'smart', 'green', 'sustainable', 'city', 'ultimate', 'goal', 'improve', 'urban', 'quality', 'life', 'citizen'], ['emphasize', 'mayor', 'benjamin', 'magalong', 'message', 'convergence', 'luzon', 'ict', 'champions', 'conference', 'exhibition', 'clickconex', '2024', 'opening', 'program', 'march', '16', 'baguio', 'convention', 'cultural', 'center', 'theme', 'pioneering', 'innovation', 'ict', 'informaiton', 'communication', 'technology', 'smarter', 'tomorrow']]\n"
     ]
    }
   ],
   "source": [
    "texts = [preprocess(paragraph) for paragraph in df['Paragraph'].dropna()]\n",
    "print(f\"Number of documents: {len(texts)}\")\n",
    "print(texts[:2])"
   ]
  },
  {
   "cell_type": "code",
   "execution_count": null,
   "metadata": {},
   "outputs": [],
   "source": []
  }
 ],
 "metadata": {
  "kernelspec": {
   "display_name": "Python 3",
   "language": "python",
   "name": "python3"
  },
  "language_info": {
   "codemirror_mode": {
    "name": "ipython",
    "version": 3
   },
   "file_extension": ".py",
   "mimetype": "text/x-python",
   "name": "python",
   "nbconvert_exporter": "python",
   "pygments_lexer": "ipython3",
   "version": "3.12.6"
  }
 },
 "nbformat": 4,
 "nbformat_minor": 2
}
